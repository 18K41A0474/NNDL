{
  "nbformat": 4,
  "nbformat_minor": 0,
  "metadata": {
    "colab": {
      "name": "Assignment-1.ipynb",
      "provenance": [],
      "authorship_tag": "ABX9TyNwRNdn055lzHgvOQ/FyEK0",
      "include_colab_link": true
    },
    "kernelspec": {
      "name": "python3",
      "display_name": "Python 3"
    }
  },
  "cells": [
    {
      "cell_type": "markdown",
      "metadata": {
        "id": "view-in-github",
        "colab_type": "text"
      },
      "source": [
        "<a href=\"https://colab.research.google.com/github/18K41A0474/NNDL/blob/main/Assignment_1.ipynb\" target=\"_parent\"><img src=\"https://colab.research.google.com/assets/colab-badge.svg\" alt=\"Open In Colab\"/></a>"
      ]
    },
    {
      "cell_type": "code",
      "metadata": {
        "colab": {
          "base_uri": "https://localhost:8080/"
        },
        "id": "Ys87MOUGay90",
        "outputId": "aaa38455-0c50-4718-f402-b155a707152b"
      },
      "source": [
        "from sympy import *\r\n",
        "x = Symbol('x')\r\n",
        "y = diff(x**4+3*x**2+10,x)\r\n",
        "print(f'First order derivative of function is ')\r\n",
        "z = 1.0\r\n",
        "itr = 20\r\n",
        "learningrate = 0.1\r\n",
        "for i in range(0,itr):\r\n",
        "    x = symbols('x')\r\n",
        "    df = y.subs(x, z)\r\n",
        "    df = round(df,2)\r\n",
        "    dx = (-1.0)*learningrate*df\r\n",
        "    z = z + dx\r\n",
        "    x1 = round(z, 2)\r\n",
        "print(z)\r\n",
        "print(f'minimum value obtained at x = {z} for function')\r\n",
        "fn = x**4+3*x**2+10\r\n",
        "print(f'value for function(f(x)) at minimum value x = {z} is {fn.subs(x,z)}')"
      ],
      "execution_count": 1,
      "outputs": [
        {
          "output_type": "stream",
          "text": [
            "First order derivative of function is \n",
            "0.0\n",
            "minimum value obtained at x = 0.0 for function\n",
            "value for function(f(x)) at minimum value x = 0.0 is 10\n"
          ],
          "name": "stdout"
        }
      ]
    }
  ]
}